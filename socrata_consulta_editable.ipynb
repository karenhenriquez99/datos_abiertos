{
 "cells": [
  {
   "cell_type": "code",
   "execution_count": null,
   "metadata": {},
   "outputs": [],
   "source": []
  },
  {
   "cell_type": "markdown",
   "metadata": {},
   "source": [
    "<div style=\"\n",
    "  padding: 30px;\n",
    "  text-align: center;\" class='row'>\n",
    "<div style=\"float:left;width: 15%;\" class='column'><a href=\"https://www.colombiacompra.gov.co\"><img alt=\"Logo Colombia Compra Eficiente\" id=\"logocce\" src=\"https://www.colombiacompra.gov.co/sites/cce_public/files/Images/logocce.png\" style=\"height: 45px;\"></a></div>\n",
    "    <div style=\"float:left;width: 70%;\" class='column'>\n",
    "        <h1>Carga de bases datos abiertos\n",
    "        </h1> \n",
    "    </div>\n",
    "<div style=\"float:left;width: 15%;\" class='column'><a href=\"https://www.dnp.gov.co/\" target=\"_blank\"><img class=\"float-right\" id=\"logodnp\" src=\"https://www.colombiacompra.gov.co/sites/cce_public/files/logo_dnp.jpg\" style=\"width: 200px;\"></a></div>\n",
    "</div>"
   ]
  },
  {
   "cell_type": "markdown",
   "metadata": {},
   "source": [
    "## 1. IDENTIFICACIÓN DEL INSUMO\n",
    "\n",
    "|||\n",
    "|:--|:--|\n",
    "|**Fecha**|Mayo 2022|\n",
    "|**Ciudad**|Bogotá D.C.|\n",
    "|**Esquema de presentación del insumo**|Cuaderno Jupyter|\n",
    "|**Título del insumo**| **Consideraciones para la consulta en datos abiertos**|\n",
    "|**Descripción y alcance**|Script para la consulta de bases utilizando datos abiertos.|\n",
    "|**Periodicidad del insumo**|único|\n",
    "|**Solicitante**|No aplica|\n",
    "|**Versión del insumo**|Final|"
   ]
  },
  {
   "cell_type": "markdown",
   "metadata": {},
   "source": [
    "## 2. DESTINO Y AUTORES DEL INFORME / INSUMO\n",
    "\n",
    "|||\n",
    "|:--|:--|\n",
    "|**Destinatario**|<table align='left'><tr><td>*Nombre:*</td> <td>Equipo analítica EMAE</td></tr> <tr><td>*Cargo:*</td> <td>NA</td></tr>  <tr><td>*Área:*</td> <td>Subdirección de estudios de Mercado y Abastecimiento Estratégico – EMAE</td></tr></table>|\n",
    "|**Autores**|<table><tr><td>*Nombre:*</td> <td>Carlos Isaac Zainea Maya</td></tr> <tr><td>*Cargo:*</td> <td>Contratista</td></tr>  <tr><td>*Área:*</td> <td>Subdirección de estudios de Mercado y Abastecimiento Estratégico – EMAE.</td></tr></table>|\n",
    "|**Aprobación**|<table><tr><td>*Nombre:*</td> <td>Catalina Pimienta</td></tr> <tr><td>*Cargo:*</td> <td>Subdirectora Estudios de Mercado y Abastecimiento Estratégico</td></tr>  <tr><td>*Área:*</td> <td>Subdirección de estudios de Mercado y Abastecimiento Estratégico – EMAE.</td></tr></table>|"
   ]
  },
  {
   "cell_type": "markdown",
   "metadata": {},
   "source": [
    "## Equipo GAEC\n",
    "\n",
    "Una breve presentación del equipo y lo que hace:"
   ]
  },
  {
   "cell_type": "code",
   "execution_count": null,
   "metadata": {},
   "outputs": [],
   "source": [
    "#from presentación import gaec\n",
    "#gaec()"
   ]
  },
  {
   "cell_type": "markdown",
   "metadata": {},
   "source": [
    "<a href=\"https://www.canva.com/design/DAFQPKx4lm8/Ig-l-7O7WP7-Il1RXtV8Gw/view?utm_content=DAFQPKx4lm8&utm_campaign=designshare&utm_medium=link&utm_source=publishpresent\"><img src=\"https://github.com/ANCP-CCE-Analitica/datos_abiertos/blob/main/images/pres_gaec.png?raw=1\"></a>"
   ]
  },
  {
   "cell_type": "markdown",
   "metadata": {},
   "source": [
    "## Datos abiertos\n",
    "\n",
    "Los datos abiertos son información pública dispuesta en formatos que permiten su uso y reutilización bajo licencia abierta y sin restricciones legales para su aprovechamiento. En Colombia, la [Ley 1712 de 2014 de la Ley de Transparencia y del Derecho de Acceso a la Información Pública Nacional](https://www.funcionpublica.gov.co/eva/gestornormativo/norma.php?i=56882), establece la obligatoriedad de las entidades públicas de aperturar datos y define los datos abiertos en el numeral sexto como \"todos aquellos datos primarios o sin procesar, que se encuentran en formatos estándar e interoperables que facilitan su acceso y reutilización, los cuales están bajo la custodia de las entidades públicas o privadas que cumplen con funciones públicas y que son puestos a disposición de cualquier ciudadano, de forma libre y sin restricciones, con el fin de que terceros puedan reutilizarlos y crear servicios derivados de los mismos\".\n",
    "\n",
    "*Tomado de: https://www.datos.gov.co*\n",
    "\n",
    "### Datos abiertos SECOP\n",
    "\n",
    "\n",
    "La Agencia Nacional de Contratación Pública - Colombia Compra Eficiente, en línea con la política pública de datos abiertos de Colombia pone a disposición los Datos Abiertos del Sistema Electrónico para la Contratación Pública -**SECOP**- con el objetivo de facilitar el análisis académico, de mercado o de control por parte de cualquier interesado en el Sistema de Compra Pública. \n",
    "\n",
    "![tresplataformas](https://github.com/ANCP-CCE-Analitica/datos_abiertos/blob/main/images/tres_plataformas.png?raw=1)\n",
    "\n",
    "\n",
    "El SECOP creado por la Ley 1150 de 2007 es el punto único de ingreso de información y de generación de reportes para las entidades estatales y para la ciudadanía en materia de compra y contratación pública. \n",
    "\n",
    "El SECOP está conformado por dos plataformas transaccionales que son la **Tienda Virtual del Estado Colombiano (acuerdos marco)** y el **SECOP II**, y una plataforma de simple publicidad que es el **SECOP I**. \n",
    "\n",
    "La información publicada corresponde a datos primarios, es decir, proviene de la [fuente de origen](https://www.colombiacompra.gov.co/sites/cce_public/files/cce_circulares/20130621circular1publicacionensecop.pdf). Es importante resaltar que de acuerdo con la Ley 1712 de 2014, artículo 3, del principio de calidad de la información, las entidades estatales son responsables de la oportunidad, objetividad y veracidad de la información que publican.\n",
    "\n",
    "**En datos abiertos encontramos, entre otras bases:**\n",
    "\n",
    "- [SECOP I - Procesos de Compra Pública](https://www.datos.gov.co/Gastos-Gubernamentales/SECOP-I-Procesos-de-Compra-P-blica/f789-7hwg): Procesos de Compra pública registrados en el SECOP I desde su implementación, contiene la información del proceso, fase de selección y la adjudicación. \n",
    "\n",
    "- [SECOP I](https://www.datos.gov.co/Gastos-Gubernamentales/SECOP-I/xvdy-vvsk): Información de los procesos de compra pública registrados en la plataforma SECOP I.\n",
    "\n",
    "- [SECOP II - Contratos Electrónicos](https://www.datos.gov.co/Gastos-Gubernamentales/SECOP-II-Contratos-Electr-nicos/jbjy-vk9h): Información de los contratos registrados en SECOP II desde su lanzamiento.\n",
    "\n",
    "- [SECOP II - Procesos de Contratación](https://www.datos.gov.co/Gastos-Gubernamentales/SECOP-II-Procesos-de-Contrataci-n/p6dx-8zbt): Registro de los procesos de compra, sean o no adjudicados, hechos en la plataforma SECOP II desde su lanzamiento.\n",
    "\n",
    "- [SECOP II - Proveedores Registrados](https://www.datos.gov.co/Gastos-Gubernamentales/SECOP-II-Proveedores-Registrados/qmzu-gj57): Información Básica de los proveedores registrados en SECOP II.\n",
    "\n",
    "- [Tienda Virtual del Estado Colombiano - Consolidado](https://www.datos.gov.co/Gastos-Gubernamentales/Tienda-Virtual-del-Estado-Colombiano-Consolidado/rgxm-mmea): Procesos de compra pública hechos a través de procesos de agregacion de la demanda en acuerdos marco, en la plataforma de Tienda Virtual del Estado Colombiano.\n",
    "\n",
    "- [SECOP Integrado](https://www.datos.gov.co/Gastos-Gubernamentales/SECOP-Integrado/rpmr-utcd): Información integrada de los procesos de compra pública que se han registrado en las plataformas SECOP I y II, que han finalizado con un contrato."
   ]
  },
  {
   "cell_type": "markdown",
   "metadata": {},
   "source": [
    "## Procesamiento de datos \n",
    "\n",
    "Cualquier persona interesada en los grupos de datos contenidos en el portal puede acceder a ellos sin necesidad de registro. Sin embargo, para un mejor desempeño de la API que usaremos en este apartado, el usuario debe crear un usuario siguiendo el procedimiento descrito a continuación:\n",
    "\n",
    "\n",
    "[![introda](https://github.com/ANCP-CCE-Analitica/datos_abiertos/blob/main/images/introda.png?raw=1)](https://www.datos.gov.co/)\n",
    "\n",
    "Hacer click en Registrarse:\n",
    "\n",
    "![reg](https://github.com/ANCP-CCE-Analitica/datos_abiertos/blob/main/images/registro.png?raw=1)\n",
    "\n",
    "Ingresar datos y crear cuenta.\n"
   ]
  },
  {
   "cell_type": "markdown",
   "metadata": {},
   "source": [
    "### Socrata - API SODA (Socrata Open Data)\n",
    "\n",
    "La Socrata Open Data API (SODA) proporciona acceso programático a este conjunto de datos, incluyendo la capacidad de filtrar, consultar y agregar datos. Para instalarlo en Python basta la línea:\n",
    "\n",
    "```Python\n",
    "pip install sodapy\n",
    "```\n",
    "Adicionalmente, para activarla e ingresar a estos datos utilizando su usuario de datos abiertos debe generar un token de la siguiente forma:\n",
    "\n",
    "**Paso 1**\n",
    "\n",
    "Identifique una base de datos que quiera consultar, para el ejemplo [SECOP II - Contratos Electrónicos](https://www.datos.gov.co/Gastos-Gubernamentales/SECOP-II-Contratos-Electr-nicos/jbjy-vk9h), haga click en API y posteriormente en documentos de la API:\n",
    "\n",
    "![api](https://github.com/ANCP-CCE-Analitica/datos_abiertos/blob/main/images/socrata_api.png?raw=1)\n",
    "\n",
    "**Paso 2**\n",
    "\n",
    "El ultimo paso lo llevará a una nueva página web que contiene toda la documentación de la base consultada, baje a la sección [App Tokens](https://dev.socrata.com/foundry/www.datos.gov.co/jbjy-vk9h) y haga click en [Sign up for an app token].\n",
    "\n",
    "\n",
    "![api](https://github.com/ANCP-CCE-Analitica/datos_abiertos/blob/main/images/apptoken.png?raw=1)\n",
    "\n",
    "\n",
    "**Paso 3**\n",
    "\n",
    "Debe iniciar sesión con el usuario de datos abiertos recientemente creado, entrará a la configuración de desarrollador de datos abiertos, cree una nueva aplicación para obtener un token:\n",
    "\n",
    "![api](https://github.com/ANCP-CCE-Analitica/datos_abiertos/blob/main/images/token.png?raw=1)\n",
    "\n",
    "\n",
    "**Paso 4**\n",
    "\n",
    "Debe escoger un nombre, una descripción y algunas configuraciones muy sencillas. Finalmente tendrá el token que buscabamos:\n",
    "\n",
    "\n",
    "![api](https://github.com/ANCP-CCE-Analitica/datos_abiertos/blob/main/images/token_2.png?raw=1)\n",
    "\n",
    "\n",
    "**Paso 5**\n",
    "\n",
    "Finalmente, hagamos una prueba de acceso a la plataforma con el siguiente código"
   ]
  },
  {
   "cell_type": "code",
   "execution_count": 1,
   "metadata": {},
   "outputs": [
    {
     "name": "stdout",
     "output_type": "stream",
     "text": [
      "Requirement already satisfied: sodapy in c:\\users\\asus\\anaconda3\\lib\\site-packages (2.2.0)\n",
      "Requirement already satisfied: requests>=2.28.1 in c:\\users\\asus\\anaconda3\\lib\\site-packages (from sodapy) (2.28.1)\n",
      "Requirement already satisfied: charset-normalizer<3,>=2 in c:\\users\\asus\\anaconda3\\lib\\site-packages (from requests>=2.28.1->sodapy) (2.0.4)\n",
      "Requirement already satisfied: certifi>=2017.4.17 in c:\\users\\asus\\anaconda3\\lib\\site-packages (from requests>=2.28.1->sodapy) (2022.12.7)\n",
      "Requirement already satisfied: idna<4,>=2.5 in c:\\users\\asus\\anaconda3\\lib\\site-packages (from requests>=2.28.1->sodapy) (3.4)\n",
      "Requirement already satisfied: urllib3<1.27,>=1.21.1 in c:\\users\\asus\\anaconda3\\lib\\site-packages (from requests>=2.28.1->sodapy) (1.26.14)\n"
     ]
    }
   ],
   "source": [
    "#!pip install sodapy"
   ]
  },
  {
   "cell_type": "code",
   "execution_count": 2,
   "metadata": {},
   "outputs": [],
   "source": [
    "import pandas as pd\n",
    "from sodapy import Socrata\n",
    "\n",
    "client = Socrata(\"www.datos.gov.co\",\n",
    "                 \"XWNurMZTmqFUWLpeaY7Abms5c\",## Cambie token_aqui por el token recien creado\n",
    "                 username=\"karenhenriquez99@hotmail.com\", ## Correo electrónico de ingreso a la plataforma de datos abiertos\n",
    "                 password=\"Chechi-1108\")## Contraseña de ingreso a la plataforma de datos abiertos"
   ]
  },
  {
   "cell_type": "markdown",
   "metadata": {},
   "source": [
    "Hagamos una prueba con una sencilla consulta en lenguaje SoQL, muy parecido a SQL (su documentación la encuentra aquí [https://dev.socrata.com/docs/queries/](https://dev.socrata.com/docs/queries/)). Es importante reconocer el identificador del dataset que estudiaremos, corresponde al identificador en la ultima parte de la dirección web donde se aloja dicha base:\n",
    "\n",
    "![identificador](https://github.com/ANCP-CCE-Analitica/datos_abiertos/blob/main/images/identificador.png?raw=1)\n"
   ]
  },
  {
   "cell_type": "code",
   "execution_count": 3,
   "metadata": {},
   "outputs": [
    {
     "data": {
      "text/html": [
       "<div>\n",
       "<style scoped>\n",
       "    .dataframe tbody tr th:only-of-type {\n",
       "        vertical-align: middle;\n",
       "    }\n",
       "\n",
       "    .dataframe tbody tr th {\n",
       "        vertical-align: top;\n",
       "    }\n",
       "\n",
       "    .dataframe thead th {\n",
       "        text-align: right;\n",
       "    }\n",
       "</style>\n",
       "<table border=\"1\" class=\"dataframe\">\n",
       "  <thead>\n",
       "    <tr style=\"text-align: right;\">\n",
       "      <th></th>\n",
       "      <th>id_contrato</th>\n",
       "      <th>nombre_entidad</th>\n",
       "      <th>departamento</th>\n",
       "      <th>descripcion_del_proceso</th>\n",
       "      <th>valor_del_contrato</th>\n",
       "    </tr>\n",
       "  </thead>\n",
       "  <tbody>\n",
       "    <tr>\n",
       "      <th>0</th>\n",
       "      <td>CO1.PCCNTR.3721520</td>\n",
       "      <td>MUNICIPIO DE LA CEJA</td>\n",
       "      <td>Antioquia</td>\n",
       "      <td>PRESTACIÓN DE SERVICIOS DE FUMIGACIÓN Y MANEJO...</td>\n",
       "      <td>4345880</td>\n",
       "    </tr>\n",
       "    <tr>\n",
       "      <th>1</th>\n",
       "      <td>CO1.PCCNTR.3713062</td>\n",
       "      <td>SENA REGIONAL NORTE DE SANTANDER Grupo de Apoy...</td>\n",
       "      <td>Norte de Santander</td>\n",
       "      <td>549119333 Contratar la compra de maquinaria y ...</td>\n",
       "      <td>87218194</td>\n",
       "    </tr>\n",
       "    <tr>\n",
       "      <th>2</th>\n",
       "      <td>CO1.PCCNTR.3707657</td>\n",
       "      <td>CORPORACIÓN AUTÓNOMA REGIONAL PARA LA DEFENSA ...</td>\n",
       "      <td>Santander</td>\n",
       "      <td>CONTRATAR EL SUMINISTRO DE MAQUINARIA PESADA P...</td>\n",
       "      <td>3000000000</td>\n",
       "    </tr>\n",
       "    <tr>\n",
       "      <th>3</th>\n",
       "      <td>CO1.PCCNTR.3722023</td>\n",
       "      <td>ICBF REGIONAL BOGOTA</td>\n",
       "      <td>Distrito Capital de Bogotá</td>\n",
       "      <td>PRESTAR LOS SERVICIOS DE EDUCACIÓN INICIAL EN ...</td>\n",
       "      <td>379324558</td>\n",
       "    </tr>\n",
       "    <tr>\n",
       "      <th>4</th>\n",
       "      <td>CO1.PCCNTR.3719331</td>\n",
       "      <td>MUNICIPIO DE SAN JUAN BAUTISTA DE GUACARI2</td>\n",
       "      <td>Valle del Cauca</td>\n",
       "      <td>Contratar los seguros que amparen los interese...</td>\n",
       "      <td>67938254</td>\n",
       "    </tr>\n",
       "    <tr>\n",
       "      <th>...</th>\n",
       "      <td>...</td>\n",
       "      <td>...</td>\n",
       "      <td>...</td>\n",
       "      <td>...</td>\n",
       "      <td>...</td>\n",
       "    </tr>\n",
       "    <tr>\n",
       "      <th>999995</th>\n",
       "      <td>CO1.PCCNTR.5319860</td>\n",
       "      <td>HOSPITAL CENTRAL DE LA POLICIA</td>\n",
       "      <td>Distrito Capital de Bogotá</td>\n",
       "      <td>PRESTACION DE SERVICIOS PROFESIONALES Y DE APO...</td>\n",
       "      <td>20686974</td>\n",
       "    </tr>\n",
       "    <tr>\n",
       "      <th>999996</th>\n",
       "      <td>CO1.PCCNTR.4921951</td>\n",
       "      <td>ALCALDÍA MUNICIPAL DE AQUITANIA</td>\n",
       "      <td>Boyacá</td>\n",
       "      <td>CONVENIO INTERADMINISTRATlVO No 20230437 CELEB...</td>\n",
       "      <td>6000000</td>\n",
       "    </tr>\n",
       "    <tr>\n",
       "      <th>999997</th>\n",
       "      <td>CO1.PCCNTR.5325107</td>\n",
       "      <td>SUPERINTENDENCIA DE NOTARIADO Y REGISTRO</td>\n",
       "      <td>Distrito Capital de Bogotá</td>\n",
       "      <td>CONTRATAR POR PRESTACIÓN DE SERVICIOS A UN 1 P...</td>\n",
       "      <td>16441056</td>\n",
       "    </tr>\n",
       "    <tr>\n",
       "      <th>999998</th>\n",
       "      <td>CO1.PCCNTR.5333361</td>\n",
       "      <td>MUNICIPIO DE TIBASOSA</td>\n",
       "      <td>Boyacá</td>\n",
       "      <td>PRESTACIÓN DE SERVICIOS PROFESIONALES PARA LA ...</td>\n",
       "      <td>14000000</td>\n",
       "    </tr>\n",
       "    <tr>\n",
       "      <th>999999</th>\n",
       "      <td>CO1.PCCNTR.5332561</td>\n",
       "      <td>INSTITUTO DEPARTAMENTAL DE SALUD DE NORTE DE S...</td>\n",
       "      <td>Norte de Santander</td>\n",
       "      <td>Prestar servicios para apoyar el fortalecimien...</td>\n",
       "      <td>10500000</td>\n",
       "    </tr>\n",
       "  </tbody>\n",
       "</table>\n",
       "<p>1000000 rows × 5 columns</p>\n",
       "</div>"
      ],
      "text/plain": [
       "               id_contrato                                     nombre_entidad  \\\n",
       "0       CO1.PCCNTR.3721520                               MUNICIPIO DE LA CEJA   \n",
       "1       CO1.PCCNTR.3713062  SENA REGIONAL NORTE DE SANTANDER Grupo de Apoy...   \n",
       "2       CO1.PCCNTR.3707657  CORPORACIÓN AUTÓNOMA REGIONAL PARA LA DEFENSA ...   \n",
       "3       CO1.PCCNTR.3722023                               ICBF REGIONAL BOGOTA   \n",
       "4       CO1.PCCNTR.3719331         MUNICIPIO DE SAN JUAN BAUTISTA DE GUACARI2   \n",
       "...                    ...                                                ...   \n",
       "999995  CO1.PCCNTR.5319860                     HOSPITAL CENTRAL DE LA POLICIA   \n",
       "999996  CO1.PCCNTR.4921951                    ALCALDÍA MUNICIPAL DE AQUITANIA   \n",
       "999997  CO1.PCCNTR.5325107           SUPERINTENDENCIA DE NOTARIADO Y REGISTRO   \n",
       "999998  CO1.PCCNTR.5333361                              MUNICIPIO DE TIBASOSA   \n",
       "999999  CO1.PCCNTR.5332561  INSTITUTO DEPARTAMENTAL DE SALUD DE NORTE DE S...   \n",
       "\n",
       "                      departamento  \\\n",
       "0                        Antioquia   \n",
       "1               Norte de Santander   \n",
       "2                        Santander   \n",
       "3       Distrito Capital de Bogotá   \n",
       "4                  Valle del Cauca   \n",
       "...                            ...   \n",
       "999995  Distrito Capital de Bogotá   \n",
       "999996                      Boyacá   \n",
       "999997  Distrito Capital de Bogotá   \n",
       "999998                      Boyacá   \n",
       "999999          Norte de Santander   \n",
       "\n",
       "                                  descripcion_del_proceso valor_del_contrato  \n",
       "0       PRESTACIÓN DE SERVICIOS DE FUMIGACIÓN Y MANEJO...            4345880  \n",
       "1       549119333 Contratar la compra de maquinaria y ...           87218194  \n",
       "2       CONTRATAR EL SUMINISTRO DE MAQUINARIA PESADA P...         3000000000  \n",
       "3       PRESTAR LOS SERVICIOS DE EDUCACIÓN INICIAL EN ...          379324558  \n",
       "4       Contratar los seguros que amparen los interese...           67938254  \n",
       "...                                                   ...                ...  \n",
       "999995  PRESTACION DE SERVICIOS PROFESIONALES Y DE APO...           20686974  \n",
       "999996  CONVENIO INTERADMINISTRATlVO No 20230437 CELEB...            6000000  \n",
       "999997  CONTRATAR POR PRESTACIÓN DE SERVICIOS A UN 1 P...           16441056  \n",
       "999998  PRESTACIÓN DE SERVICIOS PROFESIONALES PARA LA ...           14000000  \n",
       "999999  Prestar servicios para apoyar el fortalecimien...           10500000  \n",
       "\n",
       "[1000000 rows x 5 columns]"
      ]
     },
     "execution_count": 3,
     "metadata": {},
     "output_type": "execute_result"
    }
   ],
   "source": [
    "socrata_dataset_identifier = \"jbjy-vk9h\"\n",
    "\n",
    "Query = \"\"\"\n",
    "select \n",
    "    id_contrato, nombre_entidad, departamento, descripcion_del_proceso , valor_del_contrato\n",
    "where\n",
    "    fecha_de_firma >= '2022-06-01'\n",
    "limit\n",
    "1000000\n",
    "\"\"\"\n",
    "\n",
    "contratos_2022 = client.get(socrata_dataset_identifier, content_type=\"json\", query=Query)\n",
    "\n",
    "secopII_2022_DF = pd.DataFrame(pd.DataFrame.from_dict(contratos_2022))\n",
    "secopII_2022_DF"
   ]
  },
  {
   "cell_type": "code",
   "execution_count": null,
   "metadata": {},
   "outputs": [],
   "source": [
    "Query = \"\"\"\n",
    "select \n",
    "    departamento, count(id_contrato) as cantidad_contratos, sum(valor_del_contrato) as valor_dpto\n",
    "where\n",
    "    fecha_de_firma >= '2022-06-01'\n",
    "group by\n",
    "  departamento\n",
    "order by\n",
    "  valor_dpto desc\n",
    "\n",
    "limit\n",
    "1000000\n",
    "\"\"\"\n",
    "\n",
    "contratos_2022 = client.get(socrata_dataset_identifier, content_type=\"json\", query=Query)\n",
    "\n",
    "secopII_2022_DF_DEPTOS = pd.DataFrame(pd.DataFrame.from_dict(contratos_2022))\n",
    "secopII_2022_DF_DEPTOS   "
   ]
  },
  {
   "cell_type": "code",
   "execution_count": null,
   "metadata": {},
   "outputs": [],
   "source": [
    "secopII_2022_DF_DEPTOS.dtypes"
   ]
  },
  {
   "cell_type": "code",
   "execution_count": null,
   "metadata": {},
   "outputs": [],
   "source": [
    "secopII_2022_DF_DEPTOS['valor_dpto']=secopII_2022_DF_DEPTOS['valor_dpto'].astype(int)"
   ]
  },
  {
   "cell_type": "code",
   "execution_count": null,
   "metadata": {},
   "outputs": [],
   "source": [
    "import matplotlib.pyplot as plt\n",
    "\n",
    "plt.bar(x=secopII_2022_DF_DEPTOS['departamento'],height=secopII_2022_DF_DEPTOS['valor_dpto'].values)\n",
    "plt.grid()\n",
    "plt.xticks(rotation=90)\n",
    "plt.show()"
   ]
  },
  {
   "cell_type": "markdown",
   "metadata": {},
   "source": [
    "En este ejercicio es claro que usamos sentencias similares a las utilizadas en SQL, para conocer los nombres de las columnas y tener una documentación inicial de la base, siga explorando en los documentos de la API, en el caso de SECOP II contratos lo encontramos aquí: [SECOP II - Documentos API](https://dev.socrata.com/foundry/www.datos.gov.co/jbjy-vk9h). Busque la sección **FIELDS**:\n",
    "\n",
    "![Fields](https://github.com/ANCP-CCE-Analitica/datos_abiertos/blob/main/images/fields.png?raw=1)"
   ]
  },
  {
   "cell_type": "markdown",
   "metadata": {},
   "source": [
    "## Consideraciones para la consulta de datos\n",
    "\n",
    "Las base de datos del SECOP son bastante grandes, hay varias estrategias para poder descargarlas y consumirlas e incluso desde este equipo se recomienda utilizar computación distribuida (pyspark, dask, entre otros). Así mismo, para los ejercicios de actualización se recomienda generar estrategias que no tengan que descargar toda la base. En ese sentido dejamos aquí unos tips sobre la naturaleza de los datos:\n",
    "\n",
    "- En SECOP I (por ser plataforma de publicación) no hay una diferenciación de proceso de contratación con contrato. El identificador de dicho procesos es la columna uid y en algunos casos lo verá más de una vez porque enla plataforma de SECOP I se diferenciaba el mismo proceso por tener diferentes recursos presupuestales, en la tabla SECOP I - Procesos de Compra Pública, no hay esa distinción.\n",
    "\n",
    "- En SECOP II, los procesos y los contratos se tratan de manera diferente, el contrato es resultado del procesos de contratación. En ese aspecto, hay dos identificadores diferentes id_proceso (en la base de procesos) e  id_contrato (en la base de contratos). Se relacionan ambas bases por el (id_portafolio) de la base contratos con la id_procesos de la base de procesos.\n",
    "\n",
    "- Para los estudios no se tienen en cuenta los contratos en las siguientes modalidades:\n",
    "    - 'Borrador'\n",
    "    - 'Enviado Proovedor'\n",
    "    - 'Cancelado'\n",
    "    - 'En aprobación'\n",
    "    \n",
    "- Las fechas de las tablas en SECOP II, en general, tienen muchos valores nulos, en gramn medida esto depende del filtro anterior, no obstante ``Fecha Firma``  y  ``Fecha Inicio`` son los campos que menos problemas en este sentido tienen. Se recomienda establecer estrategias de lectura de esos datos, aquí agradecemos iniciativas de los equipos.\n",
    "\n",
    "- id_contrato para SECOP II se asigna siguiendo un orden, uid en SECOP I inicia con los dos ultimos digitos del año de publicación, luego el número de constancia y finalmente el número de contrato.\n",
    "\n",
    "- No hay bases maestro de entidades y proveedores, adicionalmente, las entidades estatales pueden tener un mismo NIT para diferentes dependencias (Alcaldía de Bogotá, ICBF, entre muchos otros). Se recomienda aplicar métodos de limpieza en estas variables.\n",
    "\n",
    "- En Secop I no hay una codificación estándar de las locaciones. Ayudarse con la base de datos [DIVIPOLA  ](https://geoportal.dane.gov.co/geovisores/territorio/consulta-divipola-division-politico-administrativa-de-colombia/)."
   ]
  },
  {
   "cell_type": "markdown",
   "metadata": {},
   "source": [
    "## Ejemplos prácticos\n",
    "\n",
    "Hacemos una serie de consultas interesantes para usar este código:\n"
   ]
  },
  {
   "cell_type": "markdown",
   "metadata": {},
   "source": [
    "### Consulta de fechas\n",
    "\n",
    "Contratos con fecha de firma entre 2022-03-01 y 2022-03-31."
   ]
  },
  {
   "cell_type": "code",
   "execution_count": null,
   "metadata": {},
   "outputs": [],
   "source": [
    "socrata_dataset_identifier = \"jbjy-vk9h\"\n",
    "\n",
    "Query = \"\"\"\n",
    "select \n",
    "    id_contrato,\n",
    "    descripcion_del_proceso ,\n",
    "    codigo_de_categoria_principal \n",
    "where\n",
    "    fecha_de_firma >= '2022-03-01' And\n",
    "    fecha_de_firma <= '2022-04-01'\n",
    "limit\n",
    "14000000\n",
    "\"\"\"\n",
    "\n",
    "contratos_2022 = client.get(socrata_dataset_identifier, content_type=\"json\", query=Query)\n",
    "\n",
    "secopII_2022_DF = pd.DataFrame(pd.DataFrame.from_dict(contratos_2022))\n",
    "secopII_2022_DF"
   ]
  },
  {
   "cell_type": "markdown",
   "metadata": {},
   "source": [
    "Sin llamar a todas las consultas:"
   ]
  },
  {
   "cell_type": "code",
   "execution_count": null,
   "metadata": {},
   "outputs": [],
   "source": [
    "socrata_dataset_identifier = \"jbjy-vk9h\"\n",
    "\n",
    "Query = \"\"\"\n",
    "select \n",
    "    nombre_entidad,nit_entidad,departamento,ciudad,localizaci_n,orden,sector,rama,entidad_centralizada,\n",
    "    proceso_de_compra,id_contrato,referencia_del_contrato,estado_contrato,codigo_de_categoria_principal,descripcion_del_proceso,\n",
    "    tipo_de_contrato, modalidad_de_contratacion,justificacion_modalidad_de, fecha_de_firma,tipodocproveedor,documento_proveedor,\n",
    "    proveedor_adjudicado,es_grupo,es_pyme,valor_del_contrato,destino_gasto,origen_de_los_recursos,nombre_representante_legal,nacionalidad_representante_legal,\n",
    "    tipo_de_identificaci_n_representante_legal,identificaci_n_representante_legal,g_nero_representante_legal,ultima_actualizacion,codigo_entidad,codigo_proveedor\n",
    "where\n",
    "    fecha_de_firma >= '2022-03-01' And\n",
    "    fecha_de_firma <= '2022-04-01'\n",
    "limit\n",
    "14000000\n",
    "\"\"\"\n",
    "\n",
    "contratos_2022 = client.get(socrata_dataset_identifier, content_type=\"json\", query=Query)\n",
    "\n",
    "secopII_2022_DF_ej_2 = pd.DataFrame(pd.DataFrame.from_dict(contratos_2022))\n",
    "secopII_2022_DF_ej_2"
   ]
  },
  {
   "cell_type": "markdown",
   "metadata": {},
   "source": [
    "### Consulta de textos\n",
    "\n",
    "Procesos que en descripción del procesos mencione SERVICIOS:"
   ]
  },
  {
   "cell_type": "code",
   "execution_count": null,
   "metadata": {},
   "outputs": [],
   "source": [
    "Query = \"\"\"\n",
    "select \n",
    "    nombre_entidad,nit_entidad,departamento,ciudad,localizaci_n,orden,sector,rama,entidad_centralizada,\n",
    "    proceso_de_compra,id_contrato,referencia_del_contrato,estado_contrato,codigo_de_categoria_principal,descripcion_del_proceso,\n",
    "    tipo_de_contrato, modalidad_de_contratacion,justificacion_modalidad_de, fecha_de_firma,tipodocproveedor,documento_proveedor,\n",
    "    proveedor_adjudicado,es_grupo,es_pyme,valor_del_contrato,destino_gasto,origen_de_los_recursos,nombre_representante_legal,nacionalidad_representante_legal,\n",
    "    tipo_de_identificaci_n_representante_legal,identificaci_n_representante_legal,g_nero_representante_legal,ultima_actualizacion,codigo_entidad,codigo_proveedor\n",
    "where\n",
    "    fecha_de_firma >= '2022-03-01' and\n",
    "    fecha_de_firma <= '2022-04-01' and\n",
    "    descripcion_del_proceso like '%SERVICIOS%'\n",
    "limit\n",
    "14000000\n",
    "\"\"\"\n",
    "\n",
    "contratos_2022 = client.get(socrata_dataset_identifier, content_type=\"json\", query=Query)\n",
    "\n",
    "secopII_2022_DF_ej_3 = pd.DataFrame(pd.DataFrame.from_dict(contratos_2022))\n",
    "secopII_2022_DF_ej_3"
   ]
  },
  {
   "cell_type": "code",
   "execution_count": null,
   "metadata": {},
   "outputs": [],
   "source": [
    "secopII_2022_DF_ej_3.descripcion_del_proceso"
   ]
  },
  {
   "cell_type": "markdown",
   "metadata": {},
   "source": [
    "### Consulta de valores\n",
    "\n",
    "Contratos de más de $100.000.000"
   ]
  },
  {
   "cell_type": "code",
   "execution_count": null,
   "metadata": {},
   "outputs": [],
   "source": [
    "Query = \"\"\"\n",
    "select \n",
    "    nombre_entidad,nit_entidad,departamento,ciudad,localizaci_n,orden,sector,rama,entidad_centralizada,\n",
    "    proceso_de_compra,id_contrato,referencia_del_contrato,estado_contrato,codigo_de_categoria_principal,descripcion_del_proceso,\n",
    "    tipo_de_contrato, modalidad_de_contratacion,justificacion_modalidad_de, fecha_de_firma,tipodocproveedor,documento_proveedor,\n",
    "    proveedor_adjudicado,es_grupo,es_pyme,valor_del_contrato,destino_gasto,origen_de_los_recursos,nombre_representante_legal,nacionalidad_representante_legal,\n",
    "    tipo_de_identificaci_n_representante_legal,identificaci_n_representante_legal,g_nero_representante_legal,ultima_actualizacion,codigo_entidad,codigo_proveedor\n",
    "where\n",
    "    fecha_de_firma >= '2022-03-01' and\n",
    "    fecha_de_firma <= '2022-04-01' and\n",
    "    valor_del_contrato > 1000000000\n",
    "    \n",
    "limit\n",
    "14000000\n",
    "\"\"\"\n",
    "\n",
    "contratos_2022 = client.get(socrata_dataset_identifier, content_type=\"json\", query=Query)\n",
    "\n",
    "secopII_2022_DF_ej_4 = pd.DataFrame(pd.DataFrame.from_dict(contratos_2022))\n",
    "secopII_2022_DF_ej_4"
   ]
  },
  {
   "cell_type": "code",
   "execution_count": null,
   "metadata": {},
   "outputs": [],
   "source": [
    "secopII_2022_DF_ej_4"
   ]
  },
  {
   "cell_type": "markdown",
   "metadata": {},
   "source": [
    "## Aprobación\n",
    "|||\n",
    "|--|--|\n",
    "|**Nombre**|Wilson Camilo Sanchez|\n",
    "|**Cargo**|Gestor T11|\n",
    "|**Área**|Subdirección EMAE|"
   ]
  },
  {
   "cell_type": "markdown",
   "metadata": {},
   "source": [
    "![version](https://github.com/ANCP-CCE-Analitica/datos_abiertos/blob/main/images/version.png?raw=1)"
   ]
  }
 ],
 "metadata": {
  "kernelspec": {
   "display_name": "Python 3",
   "language": "python",
   "name": "python3"
  },
  "language_info": {
   "codemirror_mode": {
    "name": "ipython",
    "version": 3
   },
   "file_extension": ".py",
   "mimetype": "text/x-python",
   "name": "python",
   "nbconvert_exporter": "python",
   "pygments_lexer": "ipython3",
   "version": "3.10.9"
  }
 },
 "nbformat": 4,
 "nbformat_minor": 2
}
