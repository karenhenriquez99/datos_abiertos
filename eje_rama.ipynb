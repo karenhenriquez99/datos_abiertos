{
 "cells": [
  {
   "cell_type": "code",
   "execution_count": null,
   "metadata": {},
   "outputs": [],
   "source": [
    "Media_valor_contrato = DF_contratos_R1['valor_del_contrato'].mean()\n",
    "# Filtra los contratos con valor superior a la media\n",
    "Contratos_mayor_media = DF_contratos_R1[DF_contratos_R1['valor_del_contrato'] > media_valor_contrato]\n",
    "Base_contratos = contratos_mayor_media[['tipo_de_contrato', 'modalidad_de_contratacion']]\n",
    "\n",
    "print(\"Primeros 5 registros:\")\n",
    "print(Base_contratos.head())\n",
    "print(\"\\nÚltimos 5 registros:\")\n",
    "print(Base_contratos.tail())"
   ]
  }
 ],
 "metadata": {
  "language_info": {
   "name": "python"
  }
 },
 "nbformat": 4,
 "nbformat_minor": 2
}
